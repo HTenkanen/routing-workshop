{
 "cells": [
  {
   "cell_type": "markdown",
   "metadata": {},
   "source": [
    "# Tools for network analysis and routing with Python\n",
    "\n",
    "In the past decade, there has been a lot of interest to develop routing algorithms and tools to analyze travel times and find optimal routes between locations with different travel modes. Hence, there exists various tools that have been developed for different programming languages. \n",
    "\n",
    "Useful routing tools for Python are:\n",
    " - [OpenTripPlanner](http://www.opentripplanner.org/) that is written in Java, but it has Jython bindings (Python for Java) and an API. Allows to conduct routings with all travel modes. Trusted choice by many transport authorities as well, such as Helsinki Region Transport. Currently, there is active development for releasing OTP 2.0 with a lot of new improvements. **OTP has been extensively used for research.** \n",
    " - [NetworkX](https://networkx.github.io/) is a generic library analyzing complex networks such as transportation networks. It is purely written in Python which makes it easy to start with, but due to this it is not as performant as some other libraries.\n",
    " - [Igraph](https://igraph.org/python/) is another generic network analysis library that can be used to conduct network analysis with Python. The core is written in C -programming language, hence, it is much faster and memory efficient than e.g. NetworkX.  \n",
    " - [Pandana](https://github.com/UDST/pandana) is a network analysis library built on top of Pandas with custom C/C++ code. Can be useful for certain accessibility analyses. \n",
    "\n",
    "Tools for building routable graphs from transit data:\n",
    "\n",
    " - [UrbanAccess](https://udst.github.io/urbanaccess/index.html) is a tool that can built routable graph from transit and OSM data. This was developed specifically for Pandana.\n",
    " - [ua2nx](https://github.com/htenkanen/ua2nx) is a tool that converts UrbanAccess graphs into NetworkX graphs. It was developed so that typical routing algorithms such as shortest path queries could be made (not possible with Pandana). **For PT analyses, we will mainly use this and NetworkX**.\n",
    " - [PearTree](https://github.com/kuanb/peartree) is another tool that can built routable graph from transit data. **Caution**: currently does not allow to conduct routes where walking and transit is combined (although docs say it would): see [this issue](https://github.com/kuanb/peartree/issues/153). \n",
    "  "
   ]
  },
  {
   "cell_type": "code",
   "execution_count": null,
   "metadata": {},
   "outputs": [],
   "source": []
  }
 ],
 "metadata": {
  "kernelspec": {
   "display_name": "Python 3",
   "language": "python",
   "name": "python3"
  },
  "language_info": {
   "codemirror_mode": {
    "name": "ipython",
    "version": 3
   },
   "file_extension": ".py",
   "mimetype": "text/x-python",
   "name": "python",
   "nbconvert_exporter": "python",
   "pygments_lexer": "ipython3",
   "version": "3.8.1"
  }
 },
 "nbformat": 4,
 "nbformat_minor": 4
}
